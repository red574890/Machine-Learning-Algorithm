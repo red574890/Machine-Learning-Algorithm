{
 "cells": [
  {
   "cell_type": "markdown",
   "id": "d23a6aeb",
   "metadata": {},
   "source": [
    "# 12"
   ]
  },
  {
   "cell_type": "code",
   "execution_count": 50,
   "id": "e9bbc05a",
   "metadata": {},
   "outputs": [],
   "source": [
    "import pandas as pd\n",
    "import math\n",
    "import numpy as np\n",
    "from numpy.linalg import inv\n",
    "pd.options.mode.chained_assignment = None "
   ]
  },
  {
   "cell_type": "code",
   "execution_count": 119,
   "id": "1353de62",
   "metadata": {},
   "outputs": [],
   "source": [
    "train=pd.read_csv('hw2_adaboost_train.dat.txt',sep=' ',header=None)\n",
    "test=pd.read_csv('hw2_adaboost_test.dat.txt',sep=' ',header=None)\n",
    "train.columns =['x1', 'x2', 'y']\n",
    "test.columns =['x1', 'x2', 'y']"
   ]
  },
  {
   "cell_type": "code",
   "execution_count": 150,
   "id": "64fc079a",
   "metadata": {},
   "outputs": [],
   "source": [
    "def cost(train):\n",
    "    return sum(train['not_equal']*train['u'])/sum(train['u'])\n",
    "\n",
    "def decision_stump(dim,s,train,sita):\n",
    "    train['not_equal']=0\n",
    "    train['y_hat'][train[dim] < temp_sita]=-1*s\n",
    "    train['y_hat'][train[dim] >= temp_sita]=1*s\n",
    "    train['not_equal'][train['y_hat']!=train['y']]=1\n",
    "    \n",
    "def sign(num):\n",
    "    if(num>0):\n",
    "        return 1\n",
    "    else:\n",
    "        return -1"
   ]
  },
  {
   "cell_type": "code",
   "execution_count": 169,
   "id": "8c153d31",
   "metadata": {},
   "outputs": [],
   "source": [
    "cols=['x1','x2']\n",
    "G = {'alpha':[],'s':[],'Ein':[],'dimension':[],'sita':[],'u':[]}\n",
    "train['y_hat']=0\n",
    "train['u']=[1/len(train)]*len(train)\n",
    "n=0\n",
    "while(n<300):\n",
    "    Ein=float('inf')\n",
    "    for i in cols:\n",
    "        train=train.sort_values(by=[i])\n",
    "        for j in range(len(train)-1):\n",
    "            \n",
    "            if(j==0):\n",
    "                temp_sita=float('-inf')\n",
    "            else:\n",
    "                temp_sita=(train[i].iloc[j]+train[i].iloc[j+1])/2\n",
    "                \n",
    "            decision_stump(i,1,train,temp_sita)\n",
    "\n",
    "            temp_Ein1=cost(train)\n",
    "            \n",
    "            decision_stump(i,-1,train,temp_sita)\n",
    "\n",
    "            temp_Ein2=cost(train)\n",
    "            \n",
    "\n",
    "            if(temp_Ein1<temp_Ein2):\n",
    "                if(Ein>temp_Ein1):\n",
    "                    Dimension=i\n",
    "                    Ein=temp_Ein1\n",
    "                    s=1\n",
    "                    sita=temp_sita\n",
    "            else:\n",
    "                if(Ein>temp_Ein2):\n",
    "                    Dimension=i\n",
    "                    Ein=temp_Ein2\n",
    "                    s=-1\n",
    "                    sita=temp_sita\n",
    "         \n",
    "              \n",
    "                    \n",
    "    #calculate new u\n",
    "    if(Ein!=0):\n",
    "        t=((1-Ein)/Ein)**0.5\n",
    "    else:\n",
    "        t=float('inf')\n",
    "    \n",
    "    G['u'].append(sum(train['u']))\n",
    "    train['y_hat'][train[Dimension]>=sita]=s*1\n",
    "    train['y_hat'][train[Dimension]<sita]=s*-1\n",
    "        \n",
    "    train['u'][train['y_hat']==train['y']]=train['u'][train['y_hat']==train['y']]/t    \n",
    "    train['u'][train['y_hat']!=train['y']]=train['u'][train['y_hat']!=train['y']]*t\n",
    "        \n",
    "        \n",
    "    #record g()\n",
    "    G['alpha'].append(math.log(t))\n",
    "    G['Ein'].append(Ein)\n",
    "    G['s'].append(s)\n",
    "    G['dimension'].append(Dimension)\n",
    "    G['sita'].append(sita)\n",
    "        \n",
    "    n+=1"
   ]
  },
  {
   "cell_type": "code",
   "execution_count": 170,
   "id": "f15a950b",
   "metadata": {
    "scrolled": true
   },
   "outputs": [],
   "source": [
    "G=pd.DataFrame(G)"
   ]
  },
  {
   "cell_type": "code",
   "execution_count": 171,
   "id": "d2f10f6b",
   "metadata": {},
   "outputs": [
    {
     "data": {
      "text/html": [
       "<div>\n",
       "<style scoped>\n",
       "    .dataframe tbody tr th:only-of-type {\n",
       "        vertical-align: middle;\n",
       "    }\n",
       "\n",
       "    .dataframe tbody tr th {\n",
       "        vertical-align: top;\n",
       "    }\n",
       "\n",
       "    .dataframe thead th {\n",
       "        text-align: right;\n",
       "    }\n",
       "</style>\n",
       "<table border=\"1\" class=\"dataframe\">\n",
       "  <thead>\n",
       "    <tr style=\"text-align: right;\">\n",
       "      <th></th>\n",
       "      <th>alpha</th>\n",
       "      <th>s</th>\n",
       "      <th>Ein</th>\n",
       "      <th>dimension</th>\n",
       "      <th>sita</th>\n",
       "      <th>u</th>\n",
       "    </tr>\n",
       "  </thead>\n",
       "  <tbody>\n",
       "    <tr>\n",
       "      <th>0</th>\n",
       "      <td>0.576340</td>\n",
       "      <td>1</td>\n",
       "      <td>0.240000</td>\n",
       "      <td>x1</td>\n",
       "      <td>0.644854</td>\n",
       "      <td>1.000000</td>\n",
       "    </tr>\n",
       "    <tr>\n",
       "      <th>1</th>\n",
       "      <td>0.762494</td>\n",
       "      <td>-1</td>\n",
       "      <td>0.178728</td>\n",
       "      <td>x2</td>\n",
       "      <td>0.626233</td>\n",
       "      <td>0.854166</td>\n",
       "    </tr>\n",
       "    <tr>\n",
       "      <th>2</th>\n",
       "      <td>0.588619</td>\n",
       "      <td>-1</td>\n",
       "      <td>0.235549</td>\n",
       "      <td>x2</td>\n",
       "      <td>0.232890</td>\n",
       "      <td>0.654504</td>\n",
       "    </tr>\n",
       "    <tr>\n",
       "      <th>3</th>\n",
       "      <td>0.538151</td>\n",
       "      <td>1</td>\n",
       "      <td>0.254206</td>\n",
       "      <td>x1</td>\n",
       "      <td>0.224440</td>\n",
       "      <td>0.555467</td>\n",
       "    </tr>\n",
       "    <tr>\n",
       "      <th>4</th>\n",
       "      <td>0.578833</td>\n",
       "      <td>1</td>\n",
       "      <td>0.239092</td>\n",
       "      <td>x1</td>\n",
       "      <td>0.876278</td>\n",
       "      <td>0.483716</td>\n",
       "    </tr>\n",
       "    <tr>\n",
       "      <th>...</th>\n",
       "      <td>...</td>\n",
       "      <td>...</td>\n",
       "      <td>...</td>\n",
       "      <td>...</td>\n",
       "      <td>...</td>\n",
       "      <td>...</td>\n",
       "    </tr>\n",
       "    <tr>\n",
       "      <th>295</th>\n",
       "      <td>0.176013</td>\n",
       "      <td>1</td>\n",
       "      <td>0.412891</td>\n",
       "      <td>x1</td>\n",
       "      <td>0.876278</td>\n",
       "      <td>0.005729</td>\n",
       "    </tr>\n",
       "    <tr>\n",
       "      <th>296</th>\n",
       "      <td>0.150156</td>\n",
       "      <td>-1</td>\n",
       "      <td>0.425481</td>\n",
       "      <td>x1</td>\n",
       "      <td>0.847283</td>\n",
       "      <td>0.005641</td>\n",
       "    </tr>\n",
       "    <tr>\n",
       "      <th>297</th>\n",
       "      <td>0.134103</td>\n",
       "      <td>1</td>\n",
       "      <td>0.433348</td>\n",
       "      <td>x1</td>\n",
       "      <td>0.542874</td>\n",
       "      <td>0.005578</td>\n",
       "    </tr>\n",
       "    <tr>\n",
       "      <th>298</th>\n",
       "      <td>0.152132</td>\n",
       "      <td>-1</td>\n",
       "      <td>0.424516</td>\n",
       "      <td>x2</td>\n",
       "      <td>0.374128</td>\n",
       "      <td>0.005528</td>\n",
       "    </tr>\n",
       "    <tr>\n",
       "      <th>299</th>\n",
       "      <td>0.153352</td>\n",
       "      <td>1</td>\n",
       "      <td>0.423919</td>\n",
       "      <td>x2</td>\n",
       "      <td>0.290015</td>\n",
       "      <td>0.005465</td>\n",
       "    </tr>\n",
       "  </tbody>\n",
       "</table>\n",
       "<p>300 rows × 6 columns</p>\n",
       "</div>"
      ],
      "text/plain": [
       "        alpha  s       Ein dimension      sita         u\n",
       "0    0.576340  1  0.240000        x1  0.644854  1.000000\n",
       "1    0.762494 -1  0.178728        x2  0.626233  0.854166\n",
       "2    0.588619 -1  0.235549        x2  0.232890  0.654504\n",
       "3    0.538151  1  0.254206        x1  0.224440  0.555467\n",
       "4    0.578833  1  0.239092        x1  0.876278  0.483716\n",
       "..        ... ..       ...       ...       ...       ...\n",
       "295  0.176013  1  0.412891        x1  0.876278  0.005729\n",
       "296  0.150156 -1  0.425481        x1  0.847283  0.005641\n",
       "297  0.134103  1  0.433348        x1  0.542874  0.005578\n",
       "298  0.152132 -1  0.424516        x2  0.374128  0.005528\n",
       "299  0.153352  1  0.423919        x2  0.290015  0.005465\n",
       "\n",
       "[300 rows x 6 columns]"
      ]
     },
     "execution_count": 171,
     "metadata": {},
     "output_type": "execute_result"
    }
   ],
   "source": [
    "G"
   ]
  },
  {
   "cell_type": "code",
   "execution_count": 175,
   "id": "b7e75cea",
   "metadata": {},
   "outputs": [],
   "source": [
    "train=train.sort_index()"
   ]
  },
  {
   "cell_type": "code",
   "execution_count": 176,
   "id": "119e85cd",
   "metadata": {},
   "outputs": [],
   "source": [
    "for i in range(len(G)):\n",
    "    train[i]=0\n",
    "    dim=G['dimension'].iloc[i]\n",
    "    sita=G['sita'].iloc[i]\n",
    "    alpha=G['alpha'].iloc[i]\n",
    "    s=G['s'].iloc[i]\n",
    "    \n",
    "    train[i][train[dim]>=sita]=s*1*alpha\n",
    "    train[i][train[dim]<sita]=s*-1*alpha\n",
    "\n",
    "res=train[range(0,299)]\n"
   ]
  },
  {
   "cell_type": "code",
   "execution_count": 177,
   "id": "ed432772",
   "metadata": {},
   "outputs": [],
   "source": [
    "y_hat=[]\n",
    "train=train[['x1','x2','y']]\n",
    "for i in range(len(res)):\n",
    "    y_hat.append(sign(sum(res.iloc[i])))\n",
    "\n",
    "train['y_hat']=y_hat"
   ]
  },
  {
   "cell_type": "code",
   "execution_count": 178,
   "id": "66aa9d86",
   "metadata": {},
   "outputs": [
    {
     "data": {
      "text/plain": [
       "0"
      ]
     },
     "execution_count": 178,
     "metadata": {},
     "output_type": "execute_result"
    }
   ],
   "source": [
    "len(train[train['y']!=train['y_hat']])"
   ]
  },
  {
   "cell_type": "markdown",
   "id": "7f814e34",
   "metadata": {},
   "source": [
    "# 12"
   ]
  },
  {
   "cell_type": "code",
   "execution_count": 174,
   "id": "02c171e9",
   "metadata": {},
   "outputs": [
    {
     "name": "stdout",
     "output_type": "stream",
     "text": [
      "0.2399999999999999\n"
     ]
    }
   ],
   "source": [
    "print(G['Ein'].iloc[0])"
   ]
  },
  {
   "cell_type": "markdown",
   "id": "8fb49965",
   "metadata": {},
   "source": [
    "# 13"
   ]
  },
  {
   "cell_type": "code",
   "execution_count": 179,
   "id": "9778113e",
   "metadata": {},
   "outputs": [
    {
     "data": {
      "text/plain": [
       "0"
      ]
     },
     "execution_count": 179,
     "metadata": {},
     "output_type": "execute_result"
    }
   ],
   "source": [
    "len(train[train['y']!=train['y_hat']])"
   ]
  },
  {
   "cell_type": "markdown",
   "id": "a238d43a",
   "metadata": {},
   "source": [
    "# 14"
   ]
  },
  {
   "cell_type": "code",
   "execution_count": 183,
   "id": "9522600a",
   "metadata": {},
   "outputs": [
    {
     "data": {
      "text/plain": [
       "0.6545039637744694"
      ]
     },
     "execution_count": 183,
     "metadata": {},
     "output_type": "execute_result"
    }
   ],
   "source": [
    "G['u'].iloc[2]"
   ]
  },
  {
   "cell_type": "markdown",
   "id": "a148e9ef",
   "metadata": {},
   "source": [
    "# 15"
   ]
  },
  {
   "cell_type": "code",
   "execution_count": 184,
   "id": "a699e20a",
   "metadata": {},
   "outputs": [
    {
     "data": {
      "text/plain": [
       "0.005465124119345906"
      ]
     },
     "execution_count": 184,
     "metadata": {},
     "output_type": "execute_result"
    }
   ],
   "source": [
    "G['u'].iloc[299]"
   ]
  },
  {
   "cell_type": "markdown",
   "id": "c56ba33b",
   "metadata": {},
   "source": [
    "# 16"
   ]
  },
  {
   "cell_type": "code",
   "execution_count": 187,
   "id": "f6c21898",
   "metadata": {},
   "outputs": [
    {
     "data": {
      "text/plain": [
       "0.1787280701754384"
      ]
     },
     "execution_count": 187,
     "metadata": {},
     "output_type": "execute_result"
    }
   ],
   "source": [
    "min(G['Ein'])"
   ]
  },
  {
   "cell_type": "markdown",
   "id": "4046a222",
   "metadata": {},
   "source": [
    "# 17"
   ]
  },
  {
   "cell_type": "code",
   "execution_count": 189,
   "id": "ba729b65",
   "metadata": {},
   "outputs": [
    {
     "name": "stdout",
     "output_type": "stream",
     "text": [
      "0.262\n"
     ]
    }
   ],
   "source": [
    "i=1\n",
    "test[i]=0\n",
    "dim=G['dimension'].iloc[i]\n",
    "sita=G['sita'].iloc[i]\n",
    "s=G['s'].iloc[i]\n",
    "\n",
    "test[i][test[dim]>=sita]=s*1\n",
    "test[i][test[dim]<sita]=s*-1\n",
    "\n",
    "print(len(test[test[i]!=test['y']])/len(test))\n",
    "\n"
   ]
  },
  {
   "cell_type": "markdown",
   "id": "24c89fdb",
   "metadata": {},
   "source": [
    "# 18"
   ]
  },
  {
   "cell_type": "code",
   "execution_count": 190,
   "id": "1ae8db42",
   "metadata": {},
   "outputs": [
    {
     "name": "stdout",
     "output_type": "stream",
     "text": [
      "0.127\n"
     ]
    }
   ],
   "source": [
    "for i in range(len(G)):\n",
    "    test[i]=0\n",
    "    dim=G['dimension'].iloc[i]\n",
    "    sita=G['sita'].iloc[i]\n",
    "    alpha=G['alpha'].iloc[i]\n",
    "    s=G['s'].iloc[i]\n",
    "    \n",
    "    test[i][test[dim]>=sita]=s*1*alpha\n",
    "    test[i][test[dim]<sita]=s*-1*alpha\n",
    "\n",
    "res=test[range(0,299)]\n",
    "\n",
    "y_hat=[]\n",
    "test=test[['x1','x2','y']]\n",
    "for i in range(len(res)):\n",
    "    y_hat.append(sign(sum(res.iloc[i])))\n",
    "\n",
    "test['y_hat']=y_hat\n",
    "\n",
    "print(len(test[test['y']!=test['y_hat']])/len(test))"
   ]
  },
  {
   "cell_type": "markdown",
   "id": "484e54e3",
   "metadata": {},
   "source": [
    "# 19"
   ]
  },
  {
   "cell_type": "code",
   "execution_count": 225,
   "id": "24640c2b",
   "metadata": {},
   "outputs": [],
   "source": [
    "df=pd.read_csv('hw2_lssvm_all.dat.txt',sep=' ',header=None)\n",
    "df=df[range(1,12)]"
   ]
  },
  {
   "cell_type": "code",
   "execution_count": 296,
   "id": "bbb6743b",
   "metadata": {},
   "outputs": [],
   "source": [
    "#Train Test split\n",
    "train=df.iloc[range(0,401)]\n",
    "test=df.iloc[range(401,500)]"
   ]
  },
  {
   "cell_type": "code",
   "execution_count": 297,
   "id": "4f9322f4",
   "metadata": {},
   "outputs": [],
   "source": [
    "x_test=test[range(1,11)]\n",
    "x_test[0]=1\n",
    "y_test=test[11]\n",
    "x_test=x_test.to_numpy()\n",
    "x_test=np.asmatrix(x_test)"
   ]
  },
  {
   "cell_type": "code",
   "execution_count": 298,
   "id": "145086df",
   "metadata": {},
   "outputs": [],
   "source": [
    "x_train=train[range(1,11)]\n",
    "x_train[0]=1\n",
    "x_train=x_train.to_numpy()\n",
    "x_train=np.asmatrix(x_train)\n",
    "y_train=train[11]"
   ]
  },
  {
   "cell_type": "code",
   "execution_count": 229,
   "id": "69478b48",
   "metadata": {},
   "outputs": [],
   "source": [
    "gamma=[32, 2, 0.125]\n",
    "Lambda=[0.001, 1, 1000]"
   ]
  },
  {
   "cell_type": "code",
   "execution_count": 285,
   "id": "f45a0c46",
   "metadata": {},
   "outputs": [],
   "source": [
    "def turn_to_power(list, power=2): \n",
    "    return [number**power for number in list]\n",
    "\n",
    "def kernal_Gaussian_RBF(X,gamma):\n",
    "    m, n = X.shape\n",
    "    K = np.zeros((m,m))\n",
    "    for i in range(m):\n",
    "        for j in range(m):\n",
    "            xi=X[i,:]\n",
    "            xj=X[j,:]\n",
    "            delta=xi-xj\n",
    "            delta=turn_to_power(delta.tolist()[0])\n",
    "            K[i,j]=math.exp(-gamma*np.sum(delta))\n",
    "    return K\n",
    "\n",
    "def beta(Lambda,K,Y):\n",
    "    m, n = K.shape\n",
    "    I=np.identity(m)\n",
    "    return inv((Lambda*I+K)).dot(Y)\n",
    "\n",
    "def predict(gamma,Beta,xn,x):\n",
    "    delta=np.array(x-xn)\n",
    "    kernel=np.exp(-gamma*np.sum(delta**2,axis=1))\n",
    "    return kernel.dot(Beta)\n",
    "\n",
    "def sign(x):\n",
    "    if(x>0):\n",
    "        return 1\n",
    "    else:\n",
    "        return -1\n",
    "\n",
    "def error_in(gamma,Beta,X,Y):\n",
    "    \n",
    "    y_predict=[]\n",
    "    for i in range(len(X)):\n",
    "          y_predict.append(sign(predict(gamma,Beta,X[i],X)))\n",
    "    \n",
    "    return len(Y[y_predict!=Y])/len(Y)\n",
    "\n",
    "\n",
    "def error_out(gamma,Beta,X,X_test,Y):\n",
    "    \n",
    "    y_predict=[]\n",
    "    for i in range(len(X_test)):\n",
    "          y_predict.append(sign(predict(gamma,Beta,X_test[i],X)))\n",
    "    \n",
    "    return len(Y[y_predict!=Y])/len(Y)\n",
    "    "
   ]
  },
  {
   "cell_type": "code",
   "execution_count": 299,
   "id": "257d3f68",
   "metadata": {},
   "outputs": [],
   "source": [
    "X=x_train\n",
    "X_test=x_test\n",
    "Y=y_test"
   ]
  },
  {
   "cell_type": "code",
   "execution_count": 294,
   "id": "b882041c",
   "metadata": {},
   "outputs": [
    {
     "data": {
      "text/html": [
       "<div>\n",
       "<style scoped>\n",
       "    .dataframe tbody tr th:only-of-type {\n",
       "        vertical-align: middle;\n",
       "    }\n",
       "\n",
       "    .dataframe tbody tr th {\n",
       "        vertical-align: top;\n",
       "    }\n",
       "\n",
       "    .dataframe thead th {\n",
       "        text-align: right;\n",
       "    }\n",
       "</style>\n",
       "<table border=\"1\" class=\"dataframe\">\n",
       "  <thead>\n",
       "    <tr style=\"text-align: right;\">\n",
       "      <th></th>\n",
       "      <th>1</th>\n",
       "      <th>2</th>\n",
       "      <th>3</th>\n",
       "      <th>4</th>\n",
       "      <th>5</th>\n",
       "      <th>6</th>\n",
       "      <th>7</th>\n",
       "      <th>8</th>\n",
       "      <th>9</th>\n",
       "      <th>10</th>\n",
       "      <th>0</th>\n",
       "    </tr>\n",
       "  </thead>\n",
       "  <tbody>\n",
       "    <tr>\n",
       "      <th>401</th>\n",
       "      <td>6.315</td>\n",
       "      <td>5.439</td>\n",
       "      <td>-6.615</td>\n",
       "      <td>-8.930</td>\n",
       "      <td>2.978</td>\n",
       "      <td>0.236</td>\n",
       "      <td>0.837</td>\n",
       "      <td>3.567</td>\n",
       "      <td>0.473</td>\n",
       "      <td>-5.990</td>\n",
       "      <td>1</td>\n",
       "    </tr>\n",
       "    <tr>\n",
       "      <th>402</th>\n",
       "      <td>5.748</td>\n",
       "      <td>4.537</td>\n",
       "      <td>4.808</td>\n",
       "      <td>-7.896</td>\n",
       "      <td>-4.014</td>\n",
       "      <td>8.878</td>\n",
       "      <td>-5.360</td>\n",
       "      <td>-4.223</td>\n",
       "      <td>2.137</td>\n",
       "      <td>-10.975</td>\n",
       "      <td>1</td>\n",
       "    </tr>\n",
       "    <tr>\n",
       "      <th>403</th>\n",
       "      <td>2.815</td>\n",
       "      <td>3.914</td>\n",
       "      <td>0.924</td>\n",
       "      <td>5.112</td>\n",
       "      <td>-6.903</td>\n",
       "      <td>-3.916</td>\n",
       "      <td>-2.724</td>\n",
       "      <td>-6.768</td>\n",
       "      <td>4.858</td>\n",
       "      <td>6.134</td>\n",
       "      <td>1</td>\n",
       "    </tr>\n",
       "    <tr>\n",
       "      <th>404</th>\n",
       "      <td>-3.186</td>\n",
       "      <td>1.439</td>\n",
       "      <td>-0.112</td>\n",
       "      <td>8.496</td>\n",
       "      <td>5.587</td>\n",
       "      <td>0.599</td>\n",
       "      <td>1.068</td>\n",
       "      <td>-7.244</td>\n",
       "      <td>-0.673</td>\n",
       "      <td>-7.200</td>\n",
       "      <td>1</td>\n",
       "    </tr>\n",
       "    <tr>\n",
       "      <th>405</th>\n",
       "      <td>-2.985</td>\n",
       "      <td>0.269</td>\n",
       "      <td>-7.147</td>\n",
       "      <td>-7.062</td>\n",
       "      <td>8.975</td>\n",
       "      <td>0.642</td>\n",
       "      <td>-4.198</td>\n",
       "      <td>4.277</td>\n",
       "      <td>-2.460</td>\n",
       "      <td>-6.809</td>\n",
       "      <td>1</td>\n",
       "    </tr>\n",
       "    <tr>\n",
       "      <th>...</th>\n",
       "      <td>...</td>\n",
       "      <td>...</td>\n",
       "      <td>...</td>\n",
       "      <td>...</td>\n",
       "      <td>...</td>\n",
       "      <td>...</td>\n",
       "      <td>...</td>\n",
       "      <td>...</td>\n",
       "      <td>...</td>\n",
       "      <td>...</td>\n",
       "      <td>...</td>\n",
       "    </tr>\n",
       "    <tr>\n",
       "      <th>495</th>\n",
       "      <td>-4.915</td>\n",
       "      <td>-6.687</td>\n",
       "      <td>-2.742</td>\n",
       "      <td>7.010</td>\n",
       "      <td>1.958</td>\n",
       "      <td>4.891</td>\n",
       "      <td>-4.081</td>\n",
       "      <td>2.878</td>\n",
       "      <td>-0.622</td>\n",
       "      <td>-10.494</td>\n",
       "      <td>1</td>\n",
       "    </tr>\n",
       "    <tr>\n",
       "      <th>496</th>\n",
       "      <td>5.312</td>\n",
       "      <td>3.225</td>\n",
       "      <td>-7.290</td>\n",
       "      <td>-10.544</td>\n",
       "      <td>1.038</td>\n",
       "      <td>1.133</td>\n",
       "      <td>0.454</td>\n",
       "      <td>3.726</td>\n",
       "      <td>2.000</td>\n",
       "      <td>-5.998</td>\n",
       "      <td>1</td>\n",
       "    </tr>\n",
       "    <tr>\n",
       "      <th>497</th>\n",
       "      <td>-5.886</td>\n",
       "      <td>2.038</td>\n",
       "      <td>-1.136</td>\n",
       "      <td>7.281</td>\n",
       "      <td>5.380</td>\n",
       "      <td>-2.020</td>\n",
       "      <td>1.388</td>\n",
       "      <td>-7.267</td>\n",
       "      <td>-2.814</td>\n",
       "      <td>-8.637</td>\n",
       "      <td>1</td>\n",
       "    </tr>\n",
       "    <tr>\n",
       "      <th>498</th>\n",
       "      <td>-4.278</td>\n",
       "      <td>-6.023</td>\n",
       "      <td>-4.698</td>\n",
       "      <td>7.758</td>\n",
       "      <td>0.745</td>\n",
       "      <td>3.107</td>\n",
       "      <td>-3.645</td>\n",
       "      <td>3.498</td>\n",
       "      <td>1.437</td>\n",
       "      <td>-9.395</td>\n",
       "      <td>1</td>\n",
       "    </tr>\n",
       "    <tr>\n",
       "      <th>499</th>\n",
       "      <td>5.554</td>\n",
       "      <td>7.105</td>\n",
       "      <td>3.943</td>\n",
       "      <td>-5.502</td>\n",
       "      <td>-4.628</td>\n",
       "      <td>8.411</td>\n",
       "      <td>-4.894</td>\n",
       "      <td>-1.375</td>\n",
       "      <td>3.913</td>\n",
       "      <td>-9.855</td>\n",
       "      <td>1</td>\n",
       "    </tr>\n",
       "  </tbody>\n",
       "</table>\n",
       "<p>99 rows × 11 columns</p>\n",
       "</div>"
      ],
      "text/plain": [
       "        1      2      3       4      5      6      7      8      9       10  \\\n",
       "401  6.315  5.439 -6.615  -8.930  2.978  0.236  0.837  3.567  0.473  -5.990   \n",
       "402  5.748  4.537  4.808  -7.896 -4.014  8.878 -5.360 -4.223  2.137 -10.975   \n",
       "403  2.815  3.914  0.924   5.112 -6.903 -3.916 -2.724 -6.768  4.858   6.134   \n",
       "404 -3.186  1.439 -0.112   8.496  5.587  0.599  1.068 -7.244 -0.673  -7.200   \n",
       "405 -2.985  0.269 -7.147  -7.062  8.975  0.642 -4.198  4.277 -2.460  -6.809   \n",
       "..     ...    ...    ...     ...    ...    ...    ...    ...    ...     ...   \n",
       "495 -4.915 -6.687 -2.742   7.010  1.958  4.891 -4.081  2.878 -0.622 -10.494   \n",
       "496  5.312  3.225 -7.290 -10.544  1.038  1.133  0.454  3.726  2.000  -5.998   \n",
       "497 -5.886  2.038 -1.136   7.281  5.380 -2.020  1.388 -7.267 -2.814  -8.637   \n",
       "498 -4.278 -6.023 -4.698   7.758  0.745  3.107 -3.645  3.498  1.437  -9.395   \n",
       "499  5.554  7.105  3.943  -5.502 -4.628  8.411 -4.894 -1.375  3.913  -9.855   \n",
       "\n",
       "     0   \n",
       "401   1  \n",
       "402   1  \n",
       "403   1  \n",
       "404   1  \n",
       "405   1  \n",
       "..   ..  \n",
       "495   1  \n",
       "496   1  \n",
       "497   1  \n",
       "498   1  \n",
       "499   1  \n",
       "\n",
       "[99 rows x 11 columns]"
      ]
     },
     "execution_count": 294,
     "metadata": {},
     "output_type": "execute_result"
    }
   ],
   "source": [
    "X_test"
   ]
  },
  {
   "cell_type": "code",
   "execution_count": 302,
   "id": "462653c2",
   "metadata": {},
   "outputs": [
    {
     "name": "stdout",
     "output_type": "stream",
     "text": [
      "Gamma:32\n",
      "Lambda:0.001\n",
      "Ein:0.0\n",
      "Eout:0.4444444444444444\n",
      "-----------------\n",
      "Gamma:32\n",
      "Lambda:1\n",
      "Ein:0.0\n",
      "Eout:0.4444444444444444\n",
      "-----------------\n",
      "Gamma:32\n",
      "Lambda:1000\n",
      "Ein:0.0\n",
      "Eout:0.4444444444444444\n",
      "-----------------\n",
      "Gamma:2\n",
      "Lambda:0.001\n",
      "Ein:0.0\n",
      "Eout:0.43434343434343436\n",
      "-----------------\n",
      "Gamma:2\n",
      "Lambda:1\n",
      "Ein:0.0\n",
      "Eout:0.43434343434343436\n",
      "-----------------\n",
      "Gamma:2\n",
      "Lambda:1000\n",
      "Ein:0.0\n",
      "Eout:0.43434343434343436\n",
      "-----------------\n",
      "Gamma:0.125\n",
      "Lambda:0.001\n",
      "Ein:0.0\n",
      "Eout:0.46464646464646464\n",
      "-----------------\n",
      "Gamma:0.125\n",
      "Lambda:1\n",
      "Ein:0.032418952618453865\n",
      "Eout:0.45454545454545453\n",
      "-----------------\n",
      "Gamma:0.125\n",
      "Lambda:1000\n",
      "Ein:0.24189526184538654\n",
      "Eout:0.3939393939393939\n",
      "-----------------\n"
     ]
    }
   ],
   "source": [
    "for i in range(len(gamma)):\n",
    "    for j in range(len(Lambda)):\n",
    "        K=kernal_Gaussian_RBF(x_train,gamma[i])\n",
    "        Beta=beta(Lambda[j],K,y_train)\n",
    "        Ein=error_in(gamma[i],Beta,x_train,y_train)\n",
    "        Eout=error_out(gamma[i],Beta,x_train,x_test,y_test)\n",
    "        print(f'Gamma:{gamma[i]}')\n",
    "        print(f'Lambda:{Lambda[j]}')\n",
    "        print(f'Ein:{Ein}')\n",
    "        print(f'Eout:{Eout}')\n",
    "        print('-----------------')\n",
    "        \n",
    "        "
   ]
  },
  {
   "cell_type": "code",
   "execution_count": 304,
   "id": "f77f2732",
   "metadata": {},
   "outputs": [
    {
     "name": "stdout",
     "output_type": "stream",
     "text": [
      "Error in is between 0 - 0.24\n"
     ]
    }
   ],
   "source": [
    "print('Error in is between 0 - 0.24')"
   ]
  },
  {
   "cell_type": "markdown",
   "id": "c0338303",
   "metadata": {},
   "source": [
    "# 20"
   ]
  },
  {
   "cell_type": "code",
   "execution_count": 305,
   "id": "c2b33165",
   "metadata": {},
   "outputs": [
    {
     "name": "stdout",
     "output_type": "stream",
     "text": [
      "minimum error out is Eout:0.3939393939393939\n"
     ]
    }
   ],
   "source": [
    "print(\"minimum error out is Eout:0.3939393939393939\")"
   ]
  }
 ],
 "metadata": {
  "hide_input": false,
  "kernelspec": {
   "display_name": "ITM891",
   "language": "python",
   "name": "itm891"
  },
  "language_info": {
   "codemirror_mode": {
    "name": "ipython",
    "version": 3
   },
   "file_extension": ".py",
   "mimetype": "text/x-python",
   "name": "python",
   "nbconvert_exporter": "python",
   "pygments_lexer": "ipython3",
   "version": "3.8.8"
  }
 },
 "nbformat": 4,
 "nbformat_minor": 5
}
