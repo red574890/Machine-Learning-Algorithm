{
 "cells": [
  {
   "cell_type": "code",
   "execution_count": 374,
   "id": "cb5323ee",
   "metadata": {},
   "outputs": [],
   "source": [
    "import pandas as pd\n",
    "import numpy as np\n",
    "pd.options.mode.chained_assignment = None  # default='warn'"
   ]
  },
  {
   "cell_type": "code",
   "execution_count": 375,
   "id": "2c3a1481",
   "metadata": {},
   "outputs": [],
   "source": [
    "train = pd.read_csv('hw3_dectree_train.dat.txt',sep=' ',header=None)\n",
    "test = pd.read_csv('hw3_dectree_test.dat.txt',sep=' ',header=None)\n",
    "\n",
    "train = train.rename(columns={0: \"x1\", 1: \"x2\", 2:\"y\"})\n",
    "test = test.rename(columns={0: \"x1\", 1: \"x2\", 2:\"y\"})"
   ]
  },
  {
   "cell_type": "code",
   "execution_count": 376,
   "id": "f862023a",
   "metadata": {},
   "outputs": [],
   "source": [
    "def gini_calculater(df):\n",
    "    if(len(df)==0):\n",
    "        return 0\n",
    "    return 1 - ((len(df[df['y']==1])/len(df))**2 + (len(df[df['y']==-1])/len(df))**2 )\n",
    "\n",
    "def purify(left,right):\n",
    "    res = len(left)*gini_calculater(left) + len(right)*gini_calculater(right)\n",
    "    return res\n",
    "\n",
    "\n",
    "\n",
    "def decision_stump(df,variables):\n",
    "    \n",
    "    res_gini = 100000\n",
    "    res_separater = 0\n",
    "    res_feature = ''\n",
    "\n",
    "    for i in variables:\n",
    "        df = df.sort_values(by=[i])\n",
    "        \n",
    "        for j in range(len(df)):   \n",
    "            if(j==0):\n",
    "                separator = (df[i].iloc[j])/2\n",
    "            else:\n",
    "                separator = (df[i].iloc[j] + df[i].iloc[j-1])/2\n",
    "            \n",
    "            left = df[df[i] < separator].copy()\n",
    "            right = df[df[i] >= separator].copy()\n",
    "                \n",
    "\n",
    "\n",
    "            gini_score = purify(left,right)\n",
    "\n",
    "            if(gini_score < res_gini):\n",
    "                res_gini = gini_score\n",
    "                res_separator = separator\n",
    "                res_feature = i\n",
    "    \n",
    "    \n",
    "    \n",
    "    left, right = data_divide(df, res_separator, res_feature)\n",
    "    \n",
    "    branch = [left['y'].value_counts().idxmax(),res_separator,res_feature]\n",
    "        \n",
    "    return branch, left, right\n",
    "\n",
    "def data_divide(df,separator,feature):\n",
    "    \n",
    "    \n",
    "    left_df = df[ df[feature] <  separator]\n",
    "    right_df = df[ df[feature] >=  separator]\n",
    "\n",
    "    left_df = left_df.reset_index()\n",
    "    left_df = left_df.drop(columns=[\"index\"])\n",
    "\n",
    "    right_df = right_df.reset_index()\n",
    "    right_df = right_df.drop(columns=[\"index\"])\n",
    "    \n",
    "    return left_df, right_df\n",
    "    \n",
    "\n",
    "\n",
    "def decision_tree(df,variables,prune = False):\n",
    "    branches = []\n",
    "    if(prune == True):\n",
    "        branch, left, right = decision_stump(df,variables)\n",
    "        branches.append(branch)\n",
    "        return branches\n",
    "    else:\n",
    "        \n",
    "        if(abs(sum(df['y'])) == len(df)):\n",
    "            if(len(df) == 0):\n",
    "                return branches\n",
    "            else:\n",
    "                branches.append(df['y'].iloc[0])\n",
    "                return branches\n",
    "        else:\n",
    "\n",
    "            branch, left, right = decision_stump(df,variables)\n",
    "\n",
    "            branches.append(branch)\n",
    "\n",
    "            branches.append(decision_tree(left,variables))\n",
    "            branches.append(decision_tree(right,variables))\n",
    "\n",
    "\n",
    "            return branches\n",
    "\n",
    "\n",
    "def fit(x,branches):\n",
    "\n",
    "    if(len(branches)==3):\n",
    "        feature = branches[0][2]\n",
    "        separator = branches[0][1]\n",
    "        \n",
    "        if(x[feature] < separator):\n",
    "\n",
    "            return fit(x,branches[1])\n",
    "        else:\n",
    "\n",
    "            return fit(x,branches[2])\n",
    "   \n",
    "    else:\n",
    "        return branches[0]\n",
    "    \n",
    "\n",
    "    \n",
    "\n",
    "def error(df,branches):\n",
    "    df['y_hat'] = df.apply(lambda row:fit(row[['x1','x2']],branches),axis = 1)\n",
    "    return len(df[df['y']!=df['y_hat']])/len(df)*100\n",
    "    \n"
   ]
  },
  {
   "cell_type": "code",
   "execution_count": 377,
   "id": "2dacf1e9",
   "metadata": {},
   "outputs": [],
   "source": [
    "train['y_hat'] = train.apply(lambda row:fit(row[['x1','x2']],branches),axis = 1)"
   ]
  },
  {
   "cell_type": "markdown",
   "id": "cf424652",
   "metadata": {},
   "source": [
    "# Q13"
   ]
  },
  {
   "cell_type": "code",
   "execution_count": 380,
   "id": "fba4b765",
   "metadata": {},
   "outputs": [
    {
     "data": {
      "text/plain": [
       "[[1, 0.626233, 'x2'],\n",
       " [[-1, 0.22443950000000001, 'x1'],\n",
       "  [[1, 0.11515275, 'x2'], [1], [-1]],\n",
       "  [[1, 0.541508, 'x1'],\n",
       "   [[1, 0.3586205, 'x2'],\n",
       "    [[1, 0.501625, 'x1'], [1], [-1]],\n",
       "    [[1, 0.26075149999999997, 'x1'], [1], [-1]]],\n",
       "   [[1, 0.285925, 'x2'], [[1, 0.26603849999999996, 'x2'], [1], [-1]], [1]]]],\n",
       " [[-1, 0.8781715000000001, 'x1'], [-1], [1]]]"
      ]
     },
     "execution_count": 380,
     "metadata": {},
     "output_type": "execute_result"
    }
   ],
   "source": [
    "variables = ['x1','x2']\n",
    "branches = decision_tree(train,variables)\n",
    "branches"
   ]
  },
  {
   "cell_type": "markdown",
   "id": "58e4d258",
   "metadata": {},
   "source": [
    "# Q 14"
   ]
  },
  {
   "cell_type": "code",
   "execution_count": 205,
   "id": "f6e70265",
   "metadata": {},
   "outputs": [
    {
     "data": {
      "text/plain": [
       "0"
      ]
     },
     "execution_count": 205,
     "metadata": {},
     "output_type": "execute_result"
    }
   ],
   "source": [
    "train['y_hat'] = train.apply(lambda row:fit(row[['x1','x2']],branches),axis = 1)\n",
    "len(train[train['y_hat'] != train['y']])"
   ]
  },
  {
   "cell_type": "markdown",
   "id": "bfdf1372",
   "metadata": {},
   "source": [
    "# Q15"
   ]
  },
  {
   "cell_type": "code",
   "execution_count": 204,
   "id": "5d498dfe",
   "metadata": {},
   "outputs": [
    {
     "name": "stdout",
     "output_type": "stream",
     "text": [
      "0.126\n"
     ]
    }
   ],
   "source": [
    "test['y_hat'] = test.apply(lambda row:fit(row[['x1','x2']],branches),axis = 1)\n",
    "print(len(test[test['y_hat'] != test['y']])/len(test))"
   ]
  },
  {
   "cell_type": "markdown",
   "id": "192d192e",
   "metadata": {},
   "source": [
    "# Q16\n"
   ]
  },
  {
   "cell_type": "code",
   "execution_count": 381,
   "id": "636e8334",
   "metadata": {},
   "outputs": [],
   "source": [
    "g = []\n",
    "variables = ['x1', 'x2']\n",
    "Error_list = []\n",
    "\n",
    "for j in range(300):\n",
    "    sample = train.sample(frac=1, replace=True)\n",
    "    branches = decision_tree(sample,variables)\n",
    "    g.append(branches)\n",
    "    Error_list.append(error(train,branches))"
   ]
  },
  {
   "cell_type": "code",
   "execution_count": 382,
   "id": "0730d96a",
   "metadata": {},
   "outputs": [
    {
     "name": "stdout",
     "output_type": "stream",
     "text": [
      "5.45%\n"
     ]
    }
   ],
   "source": [
    "print(f\"{sum(Error_list)/len(Error_list)}%\")"
   ]
  },
  {
   "cell_type": "markdown",
   "id": "60e05cfb",
   "metadata": {},
   "source": [
    "# Q17"
   ]
  },
  {
   "cell_type": "code",
   "execution_count": 383,
   "id": "9785429b",
   "metadata": {},
   "outputs": [],
   "source": [
    "for i in range(len(g)):\n",
    "    train[i] = train.apply(lambda row:fit(row[['x1','x2']],g[i]),axis = 1)"
   ]
  },
  {
   "cell_type": "code",
   "execution_count": 384,
   "id": "e847f151",
   "metadata": {},
   "outputs": [
    {
     "name": "stdout",
     "output_type": "stream",
     "text": [
      "Error rate 0.0%\n"
     ]
    }
   ],
   "source": [
    "def sign(x):\n",
    "    if(x>0):\n",
    "        return 1\n",
    "    else:\n",
    "        return -1\n",
    "\n",
    "train['predict_random_forect'] = train.apply(lambda row:row[len(g)].sum(),axis=1)\n",
    "train['predict_random_forect'] = train.apply(lambda row:sign(row['predict_random_forect']),axis = 1)\n",
    "\n",
    "ratio = len(train[train['predict_random_forect'] != train['y']]) / len(train)*100\n",
    "\n",
    "print(f\"Error rate {ratio}%\")"
   ]
  },
  {
   "cell_type": "markdown",
   "id": "405ebb7b",
   "metadata": {},
   "source": [
    "# Q18"
   ]
  },
  {
   "cell_type": "code",
   "execution_count": 385,
   "id": "01e78664",
   "metadata": {},
   "outputs": [
    {
     "name": "stdout",
     "output_type": "stream",
     "text": [
      "Error rate 7.5%\n"
     ]
    }
   ],
   "source": [
    "for i in range(len(g)):\n",
    "    test[i] = test.apply(lambda row:fit(row[['x1','x2']],g[i]),axis = 1)\n",
    "\n",
    "test['predict_random_forect'] = test.apply(lambda row:row[range(0,len(g))].sum(),axis=1)\n",
    "test['predict_random_forect'] = test.apply(lambda row:sign(row['predict_random_forect']),axis = 1)\n",
    "\n",
    "ratio = len(test[test['predict_random_forect'] != test['y']]) / len(test)*100\n",
    "\n",
    "print(f\"Error rate {ratio}%\")"
   ]
  },
  {
   "cell_type": "markdown",
   "id": "acb05666",
   "metadata": {},
   "source": [
    "# Q19"
   ]
  },
  {
   "cell_type": "code",
   "execution_count": 388,
   "id": "ce059e86",
   "metadata": {},
   "outputs": [],
   "source": [
    "train = pd.read_csv('hw3_dectree_train.dat.txt',sep=' ',header=None)\n",
    "test = pd.read_csv('hw3_dectree_test.dat.txt',sep=' ',header=None)\n",
    "\n",
    "train = train.rename(columns={0: \"x1\", 1: \"x2\", 2:\"y\"})\n",
    "test = test.rename(columns={0: \"x1\", 1: \"x2\", 2:\"y\"})"
   ]
  },
  {
   "cell_type": "code",
   "execution_count": 389,
   "id": "e5380256",
   "metadata": {},
   "outputs": [],
   "source": [
    "def fit_prune(x,branches):\n",
    "\n",
    "    \n",
    "    feature = branches[0][2]\n",
    "    separator = branches[0][1]\n",
    "    \n",
    "    if(x[feature] < separator):\n",
    "        y = branches[0][0]\n",
    "    else:\n",
    "        y = branches[0][0]*-1\n",
    "        \n",
    "    return y\n",
    "   \n",
    "def error_prune(df,branches):\n",
    "    df['y_hat'] = df.apply(lambda row:fit_prune(row[['x1','x2']],branches),axis = 1)\n",
    "    return len(df[df['y']!=df['y_hat']])/len(df)*100\n"
   ]
  },
  {
   "cell_type": "code",
   "execution_count": 390,
   "id": "55b66e3d",
   "metadata": {},
   "outputs": [],
   "source": [
    "g = []\n",
    "variables = ['x1', 'x2']\n",
    "Error_list = []\n",
    "for i in range(100):\n",
    "    for j in range(300):\n",
    "        sample = train.sample(frac=1, replace=True)\n",
    "        branches = decision_tree(sample,variables,True)\n",
    "        g.append(branches)\n",
    "        Error_list.append(error_prune(train,branches))"
   ]
  },
  {
   "cell_type": "code",
   "execution_count": 391,
   "id": "6c0f5a33",
   "metadata": {},
   "outputs": [],
   "source": [
    "for i in range(len(g)):\n",
    "    train[i] = train.apply(lambda row:fit_prune(row[['x1','x2']],g[i]),axis = 1)"
   ]
  },
  {
   "cell_type": "code",
   "execution_count": 393,
   "id": "16e11ddd",
   "metadata": {},
   "outputs": [
    {
     "name": "stdout",
     "output_type": "stream",
     "text": [
      "Error rate 12.0%\n"
     ]
    }
   ],
   "source": [
    "train['predict_random_forect'] = train.apply(lambda row:row[range(0,len(g))].sum(),axis=1)\n",
    "train['predict_random_forect'] = train.apply(lambda row:sign(row['predict_random_forect']),axis = 1)\n",
    "\n",
    "ratio = len(train[train['predict_random_forect'] != train['y']]) / len(train)*100\n",
    "\n",
    "print(f\"Error rate {ratio}%\")"
   ]
  },
  {
   "cell_type": "markdown",
   "id": "ff70bd3c",
   "metadata": {},
   "source": [
    "# Q20"
   ]
  },
  {
   "cell_type": "code",
   "execution_count": 397,
   "id": "f49f9496",
   "metadata": {},
   "outputs": [
    {
     "name": "stdout",
     "output_type": "stream",
     "text": [
      "Error out 15.4%\n"
     ]
    }
   ],
   "source": [
    "for i in range(len(g)):\n",
    "    test[i] = test.apply(lambda row:fit_prune(row[['x1','x2']],g[i]),axis = 1)\n",
    "    \n",
    "    \n",
    "    \n",
    "test['predict_random_forect'] = test.apply(lambda row:row[range(0,len(g))].sum(),axis=1)\n",
    "test['predict_random_forect'] = test.apply(lambda row:sign(row['predict_random_forect']),axis = 1)\n",
    "\n",
    "ratio = len(test[test['predict_random_forect'] != test['y']]) / len(test)*100\n",
    "print(f\"Error out {ratio}%\")"
   ]
  },
  {
   "cell_type": "code",
   "execution_count": null,
   "id": "f3090646",
   "metadata": {},
   "outputs": [],
   "source": []
  }
 ],
 "metadata": {
  "hide_input": false,
  "kernelspec": {
   "display_name": "Python 3 (ipykernel)",
   "language": "python",
   "name": "python3"
  },
  "language_info": {
   "codemirror_mode": {
    "name": "ipython",
    "version": 3
   },
   "file_extension": ".py",
   "mimetype": "text/x-python",
   "name": "python",
   "nbconvert_exporter": "python",
   "pygments_lexer": "ipython3",
   "version": "3.8.2"
  }
 },
 "nbformat": 4,
 "nbformat_minor": 5
}
